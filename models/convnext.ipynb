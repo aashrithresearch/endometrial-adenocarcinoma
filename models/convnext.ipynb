{
  "nbformat": 4,
  "nbformat_minor": 0,
  "metadata": {
    "colab": {
      "provenance": [],
      "gpuType": "T4",
      "authorship_tag": "ABX9TyPqTQAF5+Oadp4SvgSgKjdc",
      "include_colab_link": true
    },
    "kernelspec": {
      "name": "python3",
      "display_name": "Python 3"
    },
    "language_info": {
      "name": "python"
    },
    "accelerator": "GPU"
  },
  "cells": [
    {
      "cell_type": "markdown",
      "metadata": {
        "id": "view-in-github",
        "colab_type": "text"
      },
      "source": [
        "<a href=\"https://colab.research.google.com/github/aashrithresearch/endometrial-adenocarcinoma/blob/main/models/convnext.ipynb\" target=\"_parent\"><img src=\"https://colab.research.google.com/assets/colab-badge.svg\" alt=\"Open In Colab\"/></a>"
      ]
    },
    {
      "cell_type": "code",
      "execution_count": 1,
      "metadata": {
        "colab": {
          "base_uri": "https://localhost:8080/"
        },
        "id": "hBmeGT8kLs9W",
        "outputId": "e1f229cc-e7c3-4f8a-8bd3-fa9be60594e7"
      },
      "outputs": [
        {
          "output_type": "stream",
          "name": "stdout",
          "text": [
            "Mounted at /content/drive\n"
          ]
        }
      ],
      "source": [
        "from fastai.vision.all import *\n",
        "from fastai.callback.fp16 import *\n",
        "import os\n",
        "import torch\n",
        "from google.colab import drive\n",
        "drive.mount('/content/drive')"
      ]
    },
    {
      "cell_type": "code",
      "source": [
        "path = '/content/drive/MyDrive/histopathological image dataset for ET'"
      ],
      "metadata": {
        "id": "up1JzyWZL3Ab"
      },
      "execution_count": 2,
      "outputs": []
    },
    {
      "cell_type": "code",
      "source": [
        "print(os.listdir(path))"
      ],
      "metadata": {
        "colab": {
          "base_uri": "https://localhost:8080/"
        },
        "id": "9-6OOrvJMaGZ",
        "outputId": "7346dd79-eaf8-4864-8e3a-2f1572b4b31d"
      },
      "execution_count": 3,
      "outputs": [
        {
          "output_type": "stream",
          "name": "stdout",
          "text": [
            "['EA', 'Non EA', 'feature_dict.p', 'lsh.p']\n"
          ]
        }
      ]
    },
    {
      "cell_type": "code",
      "source": [
        "item_tfms = [Resize(299)]\n",
        "batch_tfms = [*aug_transforms(size=299, max_warp=0), Normalize.from_stats(*imagenet_stats)]\n",
        "\n",
        "dblock = DataBlock(blocks=(ImageBlock, CategoryBlock),\n",
        "                   get_items=get_image_files,\n",
        "                   get_y=parent_label,\n",
        "                   splitter=RandomSplitter(valid_pct=0.2, seed=42),\n",
        "                   item_tfms=item_tfms,\n",
        "                   batch_tfms=batch_tfms)\n",
        "\n",
        "dls = dblock.dataloaders(path)"
      ],
      "metadata": {
        "id": "pddYaBFxMbzd"
      },
      "execution_count": 4,
      "outputs": []
    },
    {
      "cell_type": "code",
      "source": [
        "train_ds = dls.train_ds\n",
        "dls = dblock.dataloaders(path)\n",
        "from collections import Counter\n",
        "class_counts = Counter([train_ds.items[i].parent.name for i in range(len(train_ds))])\n",
        "\n",
        "print(\"Number of samples per class in the training set:\")\n",
        "for cls, count in class_counts.items():\n",
        "    print(f\"{cls}: {count}\")"
      ],
      "metadata": {
        "colab": {
          "base_uri": "https://localhost:8080/"
        },
        "id": "5hHFN1-9MyVc",
        "outputId": "73bae7b7-73fe-4600-f7b9-cd840feebcc7"
      },
      "execution_count": 5,
      "outputs": [
        {
          "output_type": "stream",
          "name": "stdout",
          "text": [
            "Number of samples per class in the training set:\n",
            "Non EA: 2206\n",
            "EA: 436\n"
          ]
        }
      ]
    },
    {
      "cell_type": "code",
      "source": [
        "valid_ds = dls.valid_ds\n",
        "valid_class_counts = Counter([valid_ds.items[i].parent.name for i in range(len(valid_ds))])\n",
        "\n",
        "print(\"Number of samples per class in the validation set:\")\n",
        "for cls, count in valid_class_counts.items():\n",
        "    print(f\"{cls}: {count}\")"
      ],
      "metadata": {
        "colab": {
          "base_uri": "https://localhost:8080/"
        },
        "id": "U4xvOC1CM-3U",
        "outputId": "f4c68ee8-57a2-4ac6-8620-f19760dfba80"
      },
      "execution_count": 6,
      "outputs": [
        {
          "output_type": "stream",
          "name": "stdout",
          "text": [
            "Number of samples per class in the validation set:\n",
            "Non EA: 561\n",
            "EA: 99\n"
          ]
        }
      ]
    },
    {
      "cell_type": "code",
      "source": [
        "from math import ceil\n",
        "batch = dls.one_batch()\n",
        "batch_size = batch[0].shape[0]\n",
        "ncols = 10\n",
        "nrows = ceil(batch_size / ncols)"
      ],
      "metadata": {
        "id": "DjPUZxCjNDDj"
      },
      "execution_count": 7,
      "outputs": []
    },
    {
      "cell_type": "code",
      "source": [
        "metrics = [\n",
        "    accuracy,\n",
        "    Precision(average='macro'),\n",
        "    Recall(average='macro'),\n",
        "    F1Score(average='macro')\n",
        "           ]"
      ],
      "metadata": {
        "id": "8sXQFIb1NHhi"
      },
      "execution_count": 8,
      "outputs": []
    },
    {
      "cell_type": "code",
      "source": [
        "learn = vision_learner(dls, convnext_large, metrics=metrics, cbs=[GradientAccumulation(n_acc=2)], loss_func=FocalLoss(), opt_func=Adam).to_fp16()"
      ],
      "metadata": {
        "colab": {
          "base_uri": "https://localhost:8080/"
        },
        "id": "BXLwyIbOSIOF",
        "outputId": "5b3b9952-41fb-4ef3-f947-ba0dfde15ba9"
      },
      "execution_count": 9,
      "outputs": [
        {
          "output_type": "stream",
          "name": "stderr",
          "text": [
            "/usr/local/lib/python3.10/dist-packages/torchvision/models/_utils.py:208: UserWarning: The parameter 'pretrained' is deprecated since 0.13 and may be removed in the future, please use 'weights' instead.\n",
            "  warnings.warn(\n",
            "/usr/local/lib/python3.10/dist-packages/torchvision/models/_utils.py:223: UserWarning: Arguments other than a weight enum or `None` for 'weights' are deprecated since 0.13 and may be removed in the future. The current behavior is equivalent to passing `weights=ConvNeXt_Large_Weights.IMAGENET1K_V1`. You can also use `weights=ConvNeXt_Large_Weights.DEFAULT` to get the most up-to-date weights.\n",
            "  warnings.warn(msg)\n",
            "Downloading: \"https://download.pytorch.org/models/convnext_large-ea097f82.pth\" to /root/.cache/torch/hub/checkpoints/convnext_large-ea097f82.pth\n",
            "100%|██████████| 755M/755M [00:09<00:00, 86.4MB/s]\n"
          ]
        }
      ]
    },
    {
      "cell_type": "code",
      "source": [
        "learn.lr_find()"
      ],
      "metadata": {
        "colab": {
          "base_uri": "https://localhost:8080/",
          "height": 471
        },
        "id": "H5ukEwOUt29f",
        "outputId": "30829180-08aa-40dd-cbf0-4e6d01c253ae"
      },
      "execution_count": 10,
      "outputs": [
        {
          "output_type": "display_data",
          "data": {
            "text/plain": [
              "<IPython.core.display.HTML object>"
            ],
            "text/html": [
              "\n",
              "<style>\n",
              "    /* Turns off some styling */\n",
              "    progress {\n",
              "        /* gets rid of default border in Firefox and Opera. */\n",
              "        border: none;\n",
              "        /* Needs to be in here for Safari polyfill so background images work as expected. */\n",
              "        background-size: auto;\n",
              "    }\n",
              "    progress:not([value]), progress:not([value])::-webkit-progress-bar {\n",
              "        background: repeating-linear-gradient(45deg, #7e7e7e, #7e7e7e 10px, #5c5c5c 10px, #5c5c5c 20px);\n",
              "    }\n",
              "    .progress-bar-interrupted, .progress-bar-interrupted::-webkit-progress-bar {\n",
              "        background: #F44336;\n",
              "    }\n",
              "</style>\n"
            ]
          },
          "metadata": {}
        },
        {
          "output_type": "display_data",
          "data": {
            "text/plain": [
              "<IPython.core.display.HTML object>"
            ],
            "text/html": []
          },
          "metadata": {}
        },
        {
          "output_type": "execute_result",
          "data": {
            "text/plain": [
              "SuggestedLRs(valley=0.0008317637839354575)"
            ]
          },
          "metadata": {},
          "execution_count": 10
        },
        {
          "output_type": "display_data",
          "data": {
            "text/plain": [
              "<Figure size 640x480 with 1 Axes>"
            ],
            "image/png": "[encoded data removed]"
          },
          "metadata": {}
        }
      ]
    },
    {
      "cell_type": "code",
      "source": [
        "learn.fit_one_cycle(10, 1e-3, cbs=[SaveModelCallback(fname='model')])"
      ],
      "metadata": {
        "colab": {
          "base_uri": "https://localhost:8080/",
          "height": 467
        },
        "id": "7BPEyY7cUsE0",
        "outputId": "a6ab77a2-09b9-4d42-d410-da24bd9212b3"
      },
      "execution_count": 12,
      "outputs": [
        {
          "output_type": "display_data",
          "data": {
            "text/plain": [
              "<IPython.core.display.HTML object>"
            ],
            "text/html": [
              "\n",
              "<style>\n",
              "    /* Turns off some styling */\n",
              "    progress {\n",
              "        /* gets rid of default border in Firefox and Opera. */\n",
              "        border: none;\n",
              "        /* Needs to be in here for Safari polyfill so background images work as expected. */\n",
              "        background-size: auto;\n",
              "    }\n",
              "    progress:not([value]), progress:not([value])::-webkit-progress-bar {\n",
              "        background: repeating-linear-gradient(45deg, #7e7e7e, #7e7e7e 10px, #5c5c5c 10px, #5c5c5c 20px);\n",
              "    }\n",
              "    .progress-bar-interrupted, .progress-bar-interrupted::-webkit-progress-bar {\n",
              "        background: #F44336;\n",
              "    }\n",
              "</style>\n"
            ]
          },
          "metadata": {}
        },
        {
          "output_type": "display_data",
          "data": {
            "text/plain": [
              "<IPython.core.display.HTML object>"
            ],
            "text/html": [
              "<table border=\"1\" class=\"dataframe\">\n",
              "  <thead>\n",
              "    <tr style=\"text-align: left;\">\n",
              "      <th>epoch</th>\n",
              "      <th>train_loss</th>\n",
              "      <th>valid_loss</th>\n",
              "      <th>accuracy</th>\n",
              "      <th>precision_score</th>\n",
              "      <th>recall_score</th>\n",
              "      <th>f1_score</th>\n",
              "      <th>time</th>\n",
              "    </tr>\n",
              "  </thead>\n",
              "  <tbody>\n",
              "    <tr>\n",
              "      <td>0</td>\n",
              "      <td>0.328051</td>\n",
              "      <td>0.102512</td>\n",
              "      <td>0.895455</td>\n",
              "      <td>0.792125</td>\n",
              "      <td>0.913547</td>\n",
              "      <td>0.832312</td>\n",
              "      <td>01:18</td>\n",
              "    </tr>\n",
              "    <tr>\n",
              "      <td>1</td>\n",
              "      <td>0.304431</td>\n",
              "      <td>0.135873</td>\n",
              "      <td>0.874242</td>\n",
              "      <td>0.761552</td>\n",
              "      <td>0.863636</td>\n",
              "      <td>0.795840</td>\n",
              "      <td>01:16</td>\n",
              "    </tr>\n",
              "    <tr>\n",
              "      <td>2</td>\n",
              "      <td>0.256437</td>\n",
              "      <td>0.054923</td>\n",
              "      <td>0.942424</td>\n",
              "      <td>0.877204</td>\n",
              "      <td>0.907903</td>\n",
              "      <td>0.891568</td>\n",
              "      <td>01:16</td>\n",
              "    </tr>\n",
              "    <tr>\n",
              "      <td>3</td>\n",
              "      <td>0.200185</td>\n",
              "      <td>0.085394</td>\n",
              "      <td>0.921212</td>\n",
              "      <td>0.829807</td>\n",
              "      <td>0.916221</td>\n",
              "      <td>0.864034</td>\n",
              "      <td>01:16</td>\n",
              "    </tr>\n",
              "    <tr>\n",
              "      <td>4</td>\n",
              "      <td>0.150623</td>\n",
              "      <td>0.044537</td>\n",
              "      <td>0.946970</td>\n",
              "      <td>0.888308</td>\n",
              "      <td>0.910576</td>\n",
              "      <td>0.898939</td>\n",
              "      <td>01:17</td>\n",
              "    </tr>\n",
              "    <tr>\n",
              "      <td>5</td>\n",
              "      <td>0.121162</td>\n",
              "      <td>0.039669</td>\n",
              "      <td>0.960606</td>\n",
              "      <td>0.939294</td>\n",
              "      <td>0.901961</td>\n",
              "      <td>0.919367</td>\n",
              "      <td>01:16</td>\n",
              "    </tr>\n",
              "    <tr>\n",
              "      <td>6</td>\n",
              "      <td>0.095024</td>\n",
              "      <td>0.030501</td>\n",
              "      <td>0.957576</td>\n",
              "      <td>0.922683</td>\n",
              "      <td>0.908497</td>\n",
              "      <td>0.915402</td>\n",
              "      <td>01:16</td>\n",
              "    </tr>\n",
              "    <tr>\n",
              "      <td>7</td>\n",
              "      <td>0.078351</td>\n",
              "      <td>0.030455</td>\n",
              "      <td>0.954545</td>\n",
              "      <td>0.919611</td>\n",
              "      <td>0.898396</td>\n",
              "      <td>0.908577</td>\n",
              "      <td>01:16</td>\n",
              "    </tr>\n",
              "    <tr>\n",
              "      <td>8</td>\n",
              "      <td>0.069941</td>\n",
              "      <td>0.031182</td>\n",
              "      <td>0.954545</td>\n",
              "      <td>0.910873</td>\n",
              "      <td>0.910873</td>\n",
              "      <td>0.910873</td>\n",
              "      <td>01:18</td>\n",
              "    </tr>\n",
              "    <tr>\n",
              "      <td>9</td>\n",
              "      <td>0.065760</td>\n",
              "      <td>0.031878</td>\n",
              "      <td>0.960606</td>\n",
              "      <td>0.917310</td>\n",
              "      <td>0.931075</td>\n",
              "      <td>0.924016</td>\n",
              "      <td>01:16</td>\n",
              "    </tr>\n",
              "  </tbody>\n",
              "</table>"
            ]
          },
          "metadata": {}
        },
        {
          "output_type": "stream",
          "name": "stdout",
          "text": [
            "Better model found at epoch 0 with valid_loss value: 0.10251237452030182.\n",
            "Better model found at epoch 2 with valid_loss value: 0.054923392832279205.\n",
            "Better model found at epoch 4 with valid_loss value: 0.04453665390610695.\n",
            "Better model found at epoch 5 with valid_loss value: 0.03966875374317169.\n",
            "Better model found at epoch 6 with valid_loss value: 0.030501140281558037.\n",
            "Better model found at epoch 7 with valid_loss value: 0.03045450896024704.\n"
          ]
        }
      ]
    },
    {
      "cell_type": "code",
      "source": [
        "learn.recorder.plot_loss()"
      ],
      "metadata": {
        "colab": {
          "base_uri": "https://localhost:8080/",
          "height": 489
        },
        "id": "2zhDqejBxMtA",
        "outputId": "47c1ffcc-ddc8-4f51-f05f-5724f969e2e6"
      },
      "execution_count": 13,
      "outputs": [
        {
          "output_type": "execute_result",
          "data": {
            "text/plain": [
              "<Axes: title={'center': 'learning curve'}, xlabel='steps', ylabel='loss'>"
            ]
          },
          "metadata": {},
          "execution_count": 13
        },
        {
          "output_type": "display_data",
          "data": {
            "text/plain": [
              "<Figure size 640x480 with 1 Axes>"
            ],
            "image/png": "[encoded data removed]"
          },
          "metadata": {}
        }
      ]
    }
  ]
}